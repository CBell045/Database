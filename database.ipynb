{
 "cells": [
  {
   "attachments": {},
   "cell_type": "markdown",
   "metadata": {},
   "source": [
    "### Project 5: Relational Database\n",
    "### Author: Chad Bell\n",
    "### Date: 3-10-2023\n",
    "### Description: Recreate the PREVAIL database"
   ]
  },
  {
   "cell_type": "code",
   "execution_count": 1,
   "metadata": {},
   "outputs": [],
   "source": [
    "# Import libraries\n",
    "import pandas as pd\n",
    "import numpy as np\n",
    "import psycopg2"
   ]
  },
  {
   "cell_type": "code",
   "execution_count": 2,
   "metadata": {},
   "outputs": [],
   "source": [
    "# Establish a connection with the postgres database\n",
    "con = psycopg2.connect(\n",
    "    host=\"localhost\",\n",
    "    database=\"postgres\",\n",
    "    user=\"postgres\",\n",
    "    password=\"example_password\")\n",
    "# Create a cursor object\n",
    "cur = con.cursor()"
   ]
  },
  {
   "cell_type": "code",
   "execution_count": 16,
   "metadata": {},
   "outputs": [],
   "source": [
    "# con.commit()\n",
    "con.rollback()"
   ]
  },
  {
   "cell_type": "code",
   "execution_count": 17,
   "metadata": {},
   "outputs": [
    {
     "ename": "UndefinedColumn",
     "evalue": "column \"loan\" referenced in foreign key constraint does not exist\n",
     "output_type": "error",
     "traceback": [
      "\u001b[0;31m---------------------------------------------------------------------------\u001b[0m",
      "\u001b[0;31mUndefinedColumn\u001b[0m                           Traceback (most recent call last)",
      "Cell \u001b[0;32mIn[17], line 30\u001b[0m\n\u001b[1;32m     28\u001b[0m \u001b[39m# Create loan instances table\u001b[39;00m\n\u001b[1;32m     29\u001b[0m cur\u001b[39m.\u001b[39mexecute(\u001b[39m\"\u001b[39m\u001b[39mDROP TABLE IF EXISTS loan_instances;\u001b[39m\u001b[39m\"\u001b[39m)\n\u001b[0;32m---> 30\u001b[0m cur\u001b[39m.\u001b[39;49mexecute(\u001b[39m\"\"\"\u001b[39;49m\u001b[39mCREATE TABLE loan_instances (\u001b[39;49m\n\u001b[1;32m     31\u001b[0m \u001b[39m    id serial PRIMARY KEY NOT NULL,\u001b[39;49m\n\u001b[1;32m     32\u001b[0m \u001b[39m    amount NUMERIC,\u001b[39;49m\n\u001b[1;32m     33\u001b[0m \u001b[39m    stage TEXT,\u001b[39;49m\n\u001b[1;32m     34\u001b[0m \u001b[39m    app_submitted TIMESTAMP,\u001b[39;49m\n\u001b[1;32m     35\u001b[0m \u001b[39m    funds_wired TIMESTAMP,\u001b[39;49m\n\u001b[1;32m     36\u001b[0m \u001b[39m    start_date DATE,\u001b[39;49m\n\u001b[1;32m     37\u001b[0m \u001b[39m    date_paid TIMESTAMP,\u001b[39;49m\n\u001b[1;32m     38\u001b[0m \u001b[39m    loan_num NUMERIC,\u001b[39;49m\n\u001b[1;32m     39\u001b[0m \u001b[39m    instance_notes TEXT,\u001b[39;49m\n\u001b[1;32m     40\u001b[0m \u001b[39m    FOREIGN KEY (loan) REFERENCES loans (id)\u001b[39;49m\n\u001b[1;32m     41\u001b[0m \u001b[39m  );\u001b[39;49m\u001b[39m\"\"\"\u001b[39;49m\n\u001b[1;32m     42\u001b[0m             )\n\u001b[1;32m     44\u001b[0m \u001b[39m# Create clients table\u001b[39;00m\n\u001b[1;32m     45\u001b[0m cur\u001b[39m.\u001b[39mexecute(\u001b[39m\"\u001b[39m\u001b[39mDROP TABLE IF EXISTS clients;\u001b[39m\u001b[39m\"\u001b[39m)\n",
      "\u001b[0;31mUndefinedColumn\u001b[0m: column \"loan\" referenced in foreign key constraint does not exist\n"
     ]
    }
   ],
   "source": [
    "# TODO: Rename tables with tbl and primarykeys with pk to fix id's\n",
    "\n",
    "# Create loan types table\n",
    "cur.execute(\"DROP TABLE IF EXISTS loan_types;\")\n",
    "cur.execute(\"\"\"CREATE TABLE loan_types (\n",
    "    id serial PRIMARY KEY NOT NULL,\n",
    "    name TEXT,\n",
    "    interest_rate NUMERIC,\n",
    "    loan_term NUMERIC,\n",
    "    pay_frequency NUMERIC,\n",
    "    maturity_bonus NUMERIC,\n",
    "    referral_rate NUMERIC,\n",
    "    type_notes TEXT\n",
    "    );\"\"\"\n",
    "            )\n",
    "\n",
    "# Create loans table\n",
    "cur.execute(\"DROP TABLE IF EXISTS loans;\")\n",
    "cur.execute(\"\"\"CREATE TABLE loans (\n",
    "    id serial PRIMARY KEY NOT NULL,\n",
    "    initial_start_date DATE,\n",
    "    qualified BOOLEAN,\n",
    "    ira_num TEXT,\n",
    "    loan_notes TEXT,\n",
    "    partner_paid DATE,\n",
    "    promissory_note BYTEA,\n",
    "    FOREIGN KEY (id) REFERENCES loan_types (id)\n",
    "  );\"\"\"\n",
    "            )\n",
    "# Create loan instances table\n",
    "cur.execute(\"DROP TABLE IF EXISTS loan_instances;\")\n",
    "cur.execute(\"\"\"CREATE TABLE loan_instances (\n",
    "    id serial PRIMARY KEY NOT NULL,\n",
    "    amount NUMERIC,\n",
    "    stage TEXT,\n",
    "    app_submitted TIMESTAMP,\n",
    "    funds_wired TIMESTAMP,\n",
    "    start_date DATE,\n",
    "    date_paid TIMESTAMP,\n",
    "    loan_num NUMERIC,\n",
    "    instance_notes TEXT,\n",
    "    FOREIGN KEY (id) REFERENCES loans (id)\n",
    "  );\"\"\"\n",
    "            )\n",
    "\n",
    "# Create clients table\n",
    "cur.execute(\"DROP TABLE IF EXISTS clients;\")\n",
    "cur.execute(\"\"\"CREATE TABLE clients (\n",
    "    id serial PRIMARY KEY NOT NULL,\n",
    "    first_name TEXT,\n",
    "    last_name TEXT,\n",
    "    email TEXT,\n",
    "    phone TEXT,\n",
    "    address TEXT,\n",
    "    city TEXT,\n",
    "    state TEXT,\n",
    "    zip TEXT,\n",
    "    client_notes TEXT\n",
    "    );\"\"\"\n",
    "            )\n",
    "# Create referring partners table\n",
    "cur.execute(\"DROP TABLE IF EXISTS referring_partners;\")\n",
    "cur.execute(\"\"\"CREATE TABLE referring_partners (\n",
    "    id serial PRIMARY KEY NOT NULL,\n",
    "    name TEXT,\n",
    "    email TEXT,\n",
    "    referral_rate NUMERIC,\n",
    "    partner_notes TEXT\n",
    "  );\"\"\")\n",
    "\n",
    "# Many-to-many relationship between clients and referring partners\n",
    "cur.execute(\"DROP TABLE IF EXISTS client_referring_partner;\")\n",
    "cur.execute(\"\"\"CREATE TABLE client_referring_partner (\n",
    "    FOREIGN KEY (id) REFERENCES clients (id),\n",
    "    FOREIGN KEY (id) REFERENCES referring_partners (id),\n",
    "    PRIMARY KEY (client, referring_partner)\n",
    "  );\"\"\"\n",
    "            )\n",
    "\n",
    "# Many-to-many relationship between loans and clients\n",
    "cur.execute(\"DROP TABLE IF EXISTS loan_client;\")\n",
    "cur.execute(\"\"\"CREATE TABLE loan_client (\n",
    "    FOREIGN KEY (loan) REFERENCES loans (id),\n",
    "    FOREIGN KEY (client) REFERENCES clients (id),\n",
    "    PRIMARY KEY (loan, client)\n",
    "  );\"\"\"\n",
    "            )"
   ]
  },
  {
   "cell_type": "code",
   "execution_count": 6,
   "metadata": {},
   "outputs": [
    {
     "data": {
      "text/plain": [
       "[]"
      ]
     },
     "execution_count": 6,
     "metadata": {},
     "output_type": "execute_result"
    }
   ],
   "source": [
    "cur.execute(\"SELECT * FROM information_schema.tables WHERE table_schema='public';\")\n",
    "cur.fetchall()"
   ]
  },
  {
   "cell_type": "code",
   "execution_count": 8,
   "metadata": {},
   "outputs": [],
   "source": [
    "# Functions to create:\n",
    "# Reporting features\n",
    "# 1. Create pay period report\n",
    "\n",
    "# Basic functions\n",
    "# 1. Create a new client\n",
    "# 2. Create a new loan\n",
    "# 3. Create a new loan instance\n",
    "# 4. Create a new loan type\n",
    "# 5. Create a new referring partner\n",
    "\n",
    "\n",
    "# Requirements\n",
    "\"\"\"You must create a database for your program to use including at least one table to store data into.\n",
    "Your software must demonstrate the ability to insert, modify, delete, and retrieve (or query) data.\n",
    "This module requires more than just creating the database and determining SQL commands. You must write software that builds the SQL commands, submits them, receives the results from the database, and uses the results in some way.\"\"\"\n",
    "\"\"\"Stretch: Add additional tables to your database and perform a join in your software between two of the tables.\n",
    "\"\"\"\n"
   ]
  },
  {
   "cell_type": "code",
   "execution_count": null,
   "metadata": {},
   "outputs": [],
   "source": []
  }
 ],
 "metadata": {
  "kernelspec": {
   "display_name": "Python 3",
   "language": "python",
   "name": "python3"
  },
  "language_info": {
   "codemirror_mode": {
    "name": "ipython",
    "version": 3
   },
   "file_extension": ".py",
   "mimetype": "text/x-python",
   "name": "python",
   "nbconvert_exporter": "python",
   "pygments_lexer": "ipython3",
   "version": "3.11.2"
  },
  "orig_nbformat": 4
 },
 "nbformat": 4,
 "nbformat_minor": 2
}
