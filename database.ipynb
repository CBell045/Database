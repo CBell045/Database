{
 "cells": [
  {
   "attachments": {},
   "cell_type": "markdown",
   "metadata": {},
   "source": [
    "### Project 5: Relational Database\n",
    "### Author: Chad Bell\n",
    "### Date: 3-10-2023\n",
    "### Description: Recreate the PREVAIL database"
   ]
  },
  {
   "cell_type": "code",
   "execution_count": 1,
   "metadata": {},
   "outputs": [],
   "source": [
    "# Import libraries\n",
    "import pandas as pd\n",
    "import numpy as np\n",
    "import psycopg2"
   ]
  },
  {
   "cell_type": "code",
   "execution_count": 6,
   "metadata": {},
   "outputs": [],
   "source": [
    "# Establish a connection with the postgres database\n",
    "con = psycopg2.connect(\n",
    "    host=\"localhost\",\n",
    "    database=\"postgres\",\n",
    "    user=\"postgres\",\n",
    "    password=\"example_password\")\n",
    "# Create a cursor object\n",
    "cur = con.cursor()"
   ]
  },
  {
   "cell_type": "code",
   "execution_count": 68,
   "metadata": {},
   "outputs": [],
   "source": [
    "# con.commit()\n",
    "con.rollback()"
   ]
  },
  {
   "cell_type": "code",
   "execution_count": 83,
   "metadata": {},
   "outputs": [],
   "source": [
    "# Create loan types table\n",
    "cur.execute(\"DROP TABLE IF EXISTS loan_types CASCADE;\")\n",
    "cur.execute(\"\"\"CREATE TABLE loan_types (\n",
    "    id TEXT PRIMARY KEY NOT NULL,\n",
    "    name TEXT,\n",
    "    interest_rate NUMERIC,\n",
    "    loan_term NUMERIC,\n",
    "    pay_frequency NUMERIC,\n",
    "    maturity_bonus NUMERIC,\n",
    "    referral_rate NUMERIC,\n",
    "    type_notes TEXT\n",
    "    );\"\"\"\n",
    "            )\n",
    "\n",
    "# Create loans table\n",
    "cur.execute(\"DROP TABLE IF EXISTS loans CASCADE;\")\n",
    "cur.execute(\"\"\"CREATE TABLE loans (\n",
    "    id TEXT PRIMARY KEY NOT NULL,\n",
    "    initial_start_date DATE,\n",
    "    qualified TEXT,\n",
    "    ira_num TEXT,\n",
    "    loan_notes TEXT,\n",
    "    partner_paid DATE,\n",
    "    promissory_note BYTEA,\n",
    "    loan_type_id TEXT REFERENCES loan_types (id)\n",
    "  );\"\"\"\n",
    "            )\n",
    "# Create loan instances table\n",
    "cur.execute(\"DROP TABLE IF EXISTS loan_instances CASCADE;\")\n",
    "cur.execute(\"\"\"CREATE TABLE loan_instances (\n",
    "    id TEXT PRIMARY KEY NOT NULL,\n",
    "    amount NUMERIC,\n",
    "    stage TEXT,\n",
    "    app_submitted TIMESTAMP,\n",
    "    funds_wired TIMESTAMP,\n",
    "    start_date DATE,\n",
    "    date_paid TIMESTAMP,\n",
    "    loan_num NUMERIC,\n",
    "    instance_notes TEXT,\n",
    "    loan_id TEXT REFERENCES loans (id)\n",
    "  );\"\"\"\n",
    "            )\n",
    "\n",
    "# Create clients table\n",
    "cur.execute(\"DROP TABLE IF EXISTS clients CASCADE;\")\n",
    "cur.execute(\"\"\"CREATE TABLE clients (\n",
    "    id TEXT PRIMARY KEY NOT NULL,\n",
    "    first_name TEXT,\n",
    "    last_name TEXT,\n",
    "    email TEXT,\n",
    "    phone TEXT,\n",
    "    address TEXT,\n",
    "    city TEXT,\n",
    "    state TEXT,\n",
    "    zip TEXT,\n",
    "    client_notes TEXT\n",
    "    );\"\"\"\n",
    "            )\n",
    "# Create referring partners table\n",
    "cur.execute(\"DROP TABLE IF EXISTS referring_partners CASCADE;\")\n",
    "cur.execute(\"\"\"CREATE TABLE referring_partners (\n",
    "    id TEXT PRIMARY KEY NOT NULL,\n",
    "    name TEXT,\n",
    "    email TEXT,\n",
    "    referral_rate NUMERIC,\n",
    "    partner_notes TEXT\n",
    "  );\"\"\")\n",
    "\n",
    "# Many-to-many relationship between clients and referring partners\n",
    "cur.execute(\"DROP TABLE IF EXISTS client_referring_partner CASCADE;\")\n",
    "cur.execute(\"\"\"CREATE TABLE client_referring_partner (\n",
    "    client_id TEXT REFERENCES clients (id),\n",
    "    referring_partner_id TEXT REFERENCES referring_partners (id),\n",
    "    PRIMARY KEY (client_id, referring_partner_id)\n",
    "  );\"\"\"\n",
    "            )\n",
    "\n",
    "# Many-to-many relationship between loans and clients\n",
    "cur.execute(\"DROP TABLE IF EXISTS loan_client CASCADE;\")\n",
    "cur.execute(\"\"\"CREATE TABLE loan_client (\n",
    "    loan_id TEXT REFERENCES loans (id),\n",
    "    client_id TEXT REFERENCES clients (id),\n",
    "    PRIMARY KEY (loan_id, client_id)\n",
    "  );\"\"\"\n",
    "            )\n",
    "\n",
    "con.commit()\n"
   ]
  },
  {
   "cell_type": "code",
   "execution_count": 65,
   "metadata": {},
   "outputs": [
    {
     "data": {
      "text/plain": [
       "[('postgres',\n",
       "  'public',\n",
       "  'clients',\n",
       "  'BASE TABLE',\n",
       "  None,\n",
       "  None,\n",
       "  None,\n",
       "  None,\n",
       "  None,\n",
       "  'YES',\n",
       "  'NO',\n",
       "  None),\n",
       " ('postgres',\n",
       "  'public',\n",
       "  'client_referring_partner',\n",
       "  'BASE TABLE',\n",
       "  None,\n",
       "  None,\n",
       "  None,\n",
       "  None,\n",
       "  None,\n",
       "  'YES',\n",
       "  'NO',\n",
       "  None),\n",
       " ('postgres',\n",
       "  'public',\n",
       "  'referring_partners',\n",
       "  'BASE TABLE',\n",
       "  None,\n",
       "  None,\n",
       "  None,\n",
       "  None,\n",
       "  None,\n",
       "  'YES',\n",
       "  'NO',\n",
       "  None),\n",
       " ('postgres',\n",
       "  'public',\n",
       "  'loan_client',\n",
       "  'BASE TABLE',\n",
       "  None,\n",
       "  None,\n",
       "  None,\n",
       "  None,\n",
       "  None,\n",
       "  'YES',\n",
       "  'NO',\n",
       "  None),\n",
       " ('postgres',\n",
       "  'public',\n",
       "  'loan_types',\n",
       "  'BASE TABLE',\n",
       "  None,\n",
       "  None,\n",
       "  None,\n",
       "  None,\n",
       "  None,\n",
       "  'YES',\n",
       "  'NO',\n",
       "  None),\n",
       " ('postgres',\n",
       "  'public',\n",
       "  'loans',\n",
       "  'BASE TABLE',\n",
       "  None,\n",
       "  None,\n",
       "  None,\n",
       "  None,\n",
       "  None,\n",
       "  'YES',\n",
       "  'NO',\n",
       "  None),\n",
       " ('postgres',\n",
       "  'public',\n",
       "  'loan_instances',\n",
       "  'BASE TABLE',\n",
       "  None,\n",
       "  None,\n",
       "  None,\n",
       "  None,\n",
       "  None,\n",
       "  'YES',\n",
       "  'NO',\n",
       "  None)]"
      ]
     },
     "execution_count": 65,
     "metadata": {},
     "output_type": "execute_result"
    }
   ],
   "source": [
    "cur.execute(\"SELECT * FROM information_schema.tables WHERE table_schema='public';\")\n",
    "cur.fetchall()"
   ]
  },
  {
   "cell_type": "code",
   "execution_count": 84,
   "metadata": {},
   "outputs": [],
   "source": [
    "def create_loan_type(id, name, interest_rate, loan_term, pay_frequency, maturity_bonus, referral_rate, type_notes):\n",
    "    \"\"\"Create a new loan type\"\"\"\n",
    "    cur.execute(\"\"\"INSERT INTO loan_types (id, name, interest_rate, loan_term, pay_frequency, maturity_bonus, referral_rate, type_notes)\n",
    "                VALUES (%s, %s, %s, %s, %s, %s, %s, %s);\n",
    "                \"\"\", \n",
    "                (id, name, interest_rate, loan_term, pay_frequency, maturity_bonus, referral_rate, type_notes))\n",
    "    con.commit()\n",
    "    \n",
    "def create_loan(id, initial_start_date, qualified, ira_num, loan_notes, partner_paid, promissory_note, loan_type_id):\n",
    "    \"\"\"Create a new loan\"\"\"\n",
    "    cur.execute(\"\"\"INSERT INTO loans (id, initial_start_date, qualified, ira_num, loan_notes, partner_paid, promissory_note, loan_type_id)\n",
    "                VALUES (%s, %s, %s, %s, %s, %s, %s, %s);\n",
    "                \"\"\", \n",
    "                (id, initial_start_date, qualified, ira_num, loan_notes, partner_paid, promissory_note, loan_type_id))\n",
    "    con.commit()\n",
    "\n",
    "def create_loan_instance(id, amount, stage, app_submitted, funds_wired, start_date, date_paid, loan_num, instance_notes, loan_id):\n",
    "    \"\"\"Create a new loan instance\"\"\"\n",
    "    cur.execute(\"\"\"INSERT INTO loan_instances (id, amount, stage, app_submitted, funds_wired, start_date, date_paid, loan_num, instance_notes, loan_id)\n",
    "                VALUES (%s, %s, %s, %s, %s, %s, %s, %s, %s, %s);\n",
    "                \"\"\", \n",
    "                (id, amount, stage, app_submitted, funds_wired, start_date, date_paid, loan_num, instance_notes, loan_id))\n",
    "    con.commit()\n",
    "\n",
    "def create_client(id, first_name, last_name, email, phone, address, city, state, zip, client_notes):\n",
    "    \"\"\"Create a new client\"\"\"\n",
    "    cur.execute(\"\"\"INSERT INTO clients (id, first_name, last_name, email, phone, address, city, state, zip, client_notes)\n",
    "                VALUES (%s, %s, %s, %s, %s, %s, %s, %s, %s, %s);\n",
    "                \"\"\", \n",
    "                (id, first_name, last_name, email, phone, address, city, state, zip, client_notes))\n",
    "    con.commit()\n",
    "\n",
    "def create_referring_partner(id, name, email, referral_rate, partner_notes):\n",
    "    \"\"\"Create a new referring partner\"\"\"\n",
    "    cur.execute(\"\"\"INSERT INTO referring_partners (id, name, email, referral_rate, partner_notes)\n",
    "                VALUES (%s, %s, %s, %s, %s);\n",
    "                \"\"\", \n",
    "                (id, name, email, referral_rate, partner_notes))\n",
    "    con.commit()\n",
    "\n",
    "def create_client_referring_partner(client_id, referring_partner_id):\n",
    "    \"\"\"Create a new client referring partner relationship\"\"\"\n",
    "    cur.execute(\"\"\"INSERT INTO client_referring_partner (client_id, referring_partner_id)\n",
    "                VALUES (%s, %s);\n",
    "                \"\"\", \n",
    "                (client_id, referring_partner_id))\n",
    "    con.commit()\n",
    "\n",
    "def create_loan_client(loan_id, client_id):\n",
    "    \"\"\"Create a new loan client relationship\"\"\"\n",
    "    cur.execute(\"\"\"INSERT INTO loan_client (loan_id, client_id)\n",
    "                VALUES (%s, %s);\n",
    "                \"\"\", \n",
    "                (loan_id, client_id))\n",
    "    con.commit()\n",
    "\n",
    "def get_loan_type(id):\n",
    "    \"\"\"Get a loan type by id\"\"\"\n",
    "    cur.execute(\"\"\"SELECT * FROM loan_types WHERE id = %s;\"\"\", (id,))\n",
    "    return cur.fetchone()\n",
    "\n",
    "def get_loan(id):\n",
    "    \"\"\"Get a loan by id\"\"\"\n",
    "    cur.execute(\"\"\"SELECT * FROM loans WHERE id = %s;\"\"\", (id,))\n",
    "    return cur.fetchone()\n",
    "\n",
    "def get_loan_instance(id):\n",
    "    \"\"\"Get a loan instance by id\"\"\"\n",
    "    cur.execute(\"\"\"SELECT * FROM loan_instances WHERE id = %s;\"\"\", (id,))\n",
    "    return cur.fetchone()\n"
   ]
  },
  {
   "cell_type": "code",
   "execution_count": 81,
   "metadata": {},
   "outputs": [],
   "source": [
    "con.rollback()"
   ]
  },
  {
   "cell_type": "code",
   "execution_count": 85,
   "metadata": {},
   "outputs": [],
   "source": [
    "# Create loan types\n",
    "for loan_type in pd.DataFrame(pd.read_csv('loan_types.csv')).replace(np.nan, None, regex=True).to_dict('records'):\n",
    "    create_loan_type(**loan_type)\n",
    "# Create loans\n",
    "for loan in pd.DataFrame(pd.read_csv('loans.csv')).replace(np.nan, None, regex=True).to_dict('records'):\n",
    "    create_loan(**loan)\n",
    "\n",
    "\n",
    "# Create loan instances\n",
    "for loan_instance in pd.DataFrame(pd.read_csv('loan_instances.csv')).replace(np.nan, None, regex=True).to_dict('records'):\n",
    "    create_loan_instance(**loan_instance)\n",
    "# Create clients\n",
    "for client in pd.DataFrame(pd.read_csv('clients.csv')).replace(np.nan, None, regex=True).to_dict('records'):\n",
    "    create_client(**client)\n",
    "# Create referring partners\n",
    "for referring_partner in pd.DataFrame(pd.read_csv('referring_partners.csv')).replace(np.nan, None, regex=True).to_dict('records'):\n",
    "    create_referring_partner(**referring_partner)\n",
    "# Create client referring partner relationships\n",
    "for client_referring_partner in pd.DataFrame(pd.read_csv('client_referring_partner.csv')).replace(np.nan, None, regex=True).to_dict('records'):\n",
    "    create_client_referring_partner(**client_referring_partner)\n",
    "# Create loan client relationships\n",
    "for loan_client in pd.DataFrame(pd.read_csv('loan_client.csv')).replace(np.nan, None, regex=True).to_dict('records'):\n",
    "    create_loan_client(**loan_client)\n",
    "\n",
    "con.commit()"
   ]
  },
  {
   "cell_type": "code",
   "execution_count": 94,
   "metadata": {},
   "outputs": [],
   "source": [
    "# Get all of the loan types and count the number of loans for each type\n",
    "cur.execute(\"\"\"SELECT name, interest_rate, loan_term, ROUND(interest_rate/loan_term*12, 2) rate, COUNT(*) FROM loans\n",
    "JOIN loan_types ON loans.loan_type_id = loan_types.id\n",
    "GROUP BY name, interest_rate, loan_term;\n",
    "\"\"\")\n",
    "df = pd.DataFrame(cur.fetchall())\n",
    "df.rename(columns={0: 'name', 1: 'interest_rate', 2: 'loan_term', 3: 'rate', 4: 'count'}, inplace=True)"
   ]
  },
  {
   "cell_type": "code",
   "execution_count": 97,
   "metadata": {},
   "outputs": [
    {
     "data": {
      "application/vnd.plotly.v1+json": {
       "config": {
        "plotlyServerURL": "https://plot.ly"
       },
       "data": [
        {
         "name": "Count",
         "type": "bar",
         "x": [
          "REAL",
          "WELLS 36",
          "CORE 14"
         ],
         "y": [
          126,
          3,
          1
         ]
        }
       ],
       "layout": {
        "template": {
         "data": {
          "bar": [
           {
            "error_x": {
             "color": "#2a3f5f"
            },
            "error_y": {
             "color": "#2a3f5f"
            },
            "marker": {
             "line": {
              "color": "#E5ECF6",
              "width": 0.5
             },
             "pattern": {
              "fillmode": "overlay",
              "size": 10,
              "solidity": 0.2
             }
            },
            "type": "bar"
           }
          ],
          "barpolar": [
           {
            "marker": {
             "line": {
              "color": "#E5ECF6",
              "width": 0.5
             },
             "pattern": {
              "fillmode": "overlay",
              "size": 10,
              "solidity": 0.2
             }
            },
            "type": "barpolar"
           }
          ],
          "carpet": [
           {
            "aaxis": {
             "endlinecolor": "#2a3f5f",
             "gridcolor": "white",
             "linecolor": "white",
             "minorgridcolor": "white",
             "startlinecolor": "#2a3f5f"
            },
            "baxis": {
             "endlinecolor": "#2a3f5f",
             "gridcolor": "white",
             "linecolor": "white",
             "minorgridcolor": "white",
             "startlinecolor": "#2a3f5f"
            },
            "type": "carpet"
           }
          ],
          "choropleth": [
           {
            "colorbar": {
             "outlinewidth": 0,
             "ticks": ""
            },
            "type": "choropleth"
           }
          ],
          "contour": [
           {
            "colorbar": {
             "outlinewidth": 0,
             "ticks": ""
            },
            "colorscale": [
             [
              0,
              "#0d0887"
             ],
             [
              0.1111111111111111,
              "#46039f"
             ],
             [
              0.2222222222222222,
              "#7201a8"
             ],
             [
              0.3333333333333333,
              "#9c179e"
             ],
             [
              0.4444444444444444,
              "#bd3786"
             ],
             [
              0.5555555555555556,
              "#d8576b"
             ],
             [
              0.6666666666666666,
              "#ed7953"
             ],
             [
              0.7777777777777778,
              "#fb9f3a"
             ],
             [
              0.8888888888888888,
              "#fdca26"
             ],
             [
              1,
              "#f0f921"
             ]
            ],
            "type": "contour"
           }
          ],
          "contourcarpet": [
           {
            "colorbar": {
             "outlinewidth": 0,
             "ticks": ""
            },
            "type": "contourcarpet"
           }
          ],
          "heatmap": [
           {
            "colorbar": {
             "outlinewidth": 0,
             "ticks": ""
            },
            "colorscale": [
             [
              0,
              "#0d0887"
             ],
             [
              0.1111111111111111,
              "#46039f"
             ],
             [
              0.2222222222222222,
              "#7201a8"
             ],
             [
              0.3333333333333333,
              "#9c179e"
             ],
             [
              0.4444444444444444,
              "#bd3786"
             ],
             [
              0.5555555555555556,
              "#d8576b"
             ],
             [
              0.6666666666666666,
              "#ed7953"
             ],
             [
              0.7777777777777778,
              "#fb9f3a"
             ],
             [
              0.8888888888888888,
              "#fdca26"
             ],
             [
              1,
              "#f0f921"
             ]
            ],
            "type": "heatmap"
           }
          ],
          "heatmapgl": [
           {
            "colorbar": {
             "outlinewidth": 0,
             "ticks": ""
            },
            "colorscale": [
             [
              0,
              "#0d0887"
             ],
             [
              0.1111111111111111,
              "#46039f"
             ],
             [
              0.2222222222222222,
              "#7201a8"
             ],
             [
              0.3333333333333333,
              "#9c179e"
             ],
             [
              0.4444444444444444,
              "#bd3786"
             ],
             [
              0.5555555555555556,
              "#d8576b"
             ],
             [
              0.6666666666666666,
              "#ed7953"
             ],
             [
              0.7777777777777778,
              "#fb9f3a"
             ],
             [
              0.8888888888888888,
              "#fdca26"
             ],
             [
              1,
              "#f0f921"
             ]
            ],
            "type": "heatmapgl"
           }
          ],
          "histogram": [
           {
            "marker": {
             "pattern": {
              "fillmode": "overlay",
              "size": 10,
              "solidity": 0.2
             }
            },
            "type": "histogram"
           }
          ],
          "histogram2d": [
           {
            "colorbar": {
             "outlinewidth": 0,
             "ticks": ""
            },
            "colorscale": [
             [
              0,
              "#0d0887"
             ],
             [
              0.1111111111111111,
              "#46039f"
             ],
             [
              0.2222222222222222,
              "#7201a8"
             ],
             [
              0.3333333333333333,
              "#9c179e"
             ],
             [
              0.4444444444444444,
              "#bd3786"
             ],
             [
              0.5555555555555556,
              "#d8576b"
             ],
             [
              0.6666666666666666,
              "#ed7953"
             ],
             [
              0.7777777777777778,
              "#fb9f3a"
             ],
             [
              0.8888888888888888,
              "#fdca26"
             ],
             [
              1,
              "#f0f921"
             ]
            ],
            "type": "histogram2d"
           }
          ],
          "histogram2dcontour": [
           {
            "colorbar": {
             "outlinewidth": 0,
             "ticks": ""
            },
            "colorscale": [
             [
              0,
              "#0d0887"
             ],
             [
              0.1111111111111111,
              "#46039f"
             ],
             [
              0.2222222222222222,
              "#7201a8"
             ],
             [
              0.3333333333333333,
              "#9c179e"
             ],
             [
              0.4444444444444444,
              "#bd3786"
             ],
             [
              0.5555555555555556,
              "#d8576b"
             ],
             [
              0.6666666666666666,
              "#ed7953"
             ],
             [
              0.7777777777777778,
              "#fb9f3a"
             ],
             [
              0.8888888888888888,
              "#fdca26"
             ],
             [
              1,
              "#f0f921"
             ]
            ],
            "type": "histogram2dcontour"
           }
          ],
          "mesh3d": [
           {
            "colorbar": {
             "outlinewidth": 0,
             "ticks": ""
            },
            "type": "mesh3d"
           }
          ],
          "parcoords": [
           {
            "line": {
             "colorbar": {
              "outlinewidth": 0,
              "ticks": ""
             }
            },
            "type": "parcoords"
           }
          ],
          "pie": [
           {
            "automargin": true,
            "type": "pie"
           }
          ],
          "scatter": [
           {
            "fillpattern": {
             "fillmode": "overlay",
             "size": 10,
             "solidity": 0.2
            },
            "type": "scatter"
           }
          ],
          "scatter3d": [
           {
            "line": {
             "colorbar": {
              "outlinewidth": 0,
              "ticks": ""
             }
            },
            "marker": {
             "colorbar": {
              "outlinewidth": 0,
              "ticks": ""
             }
            },
            "type": "scatter3d"
           }
          ],
          "scattercarpet": [
           {
            "marker": {
             "colorbar": {
              "outlinewidth": 0,
              "ticks": ""
             }
            },
            "type": "scattercarpet"
           }
          ],
          "scattergeo": [
           {
            "marker": {
             "colorbar": {
              "outlinewidth": 0,
              "ticks": ""
             }
            },
            "type": "scattergeo"
           }
          ],
          "scattergl": [
           {
            "marker": {
             "colorbar": {
              "outlinewidth": 0,
              "ticks": ""
             }
            },
            "type": "scattergl"
           }
          ],
          "scattermapbox": [
           {
            "marker": {
             "colorbar": {
              "outlinewidth": 0,
              "ticks": ""
             }
            },
            "type": "scattermapbox"
           }
          ],
          "scatterpolar": [
           {
            "marker": {
             "colorbar": {
              "outlinewidth": 0,
              "ticks": ""
             }
            },
            "type": "scatterpolar"
           }
          ],
          "scatterpolargl": [
           {
            "marker": {
             "colorbar": {
              "outlinewidth": 0,
              "ticks": ""
             }
            },
            "type": "scatterpolargl"
           }
          ],
          "scatterternary": [
           {
            "marker": {
             "colorbar": {
              "outlinewidth": 0,
              "ticks": ""
             }
            },
            "type": "scatterternary"
           }
          ],
          "surface": [
           {
            "colorbar": {
             "outlinewidth": 0,
             "ticks": ""
            },
            "colorscale": [
             [
              0,
              "#0d0887"
             ],
             [
              0.1111111111111111,
              "#46039f"
             ],
             [
              0.2222222222222222,
              "#7201a8"
             ],
             [
              0.3333333333333333,
              "#9c179e"
             ],
             [
              0.4444444444444444,
              "#bd3786"
             ],
             [
              0.5555555555555556,
              "#d8576b"
             ],
             [
              0.6666666666666666,
              "#ed7953"
             ],
             [
              0.7777777777777778,
              "#fb9f3a"
             ],
             [
              0.8888888888888888,
              "#fdca26"
             ],
             [
              1,
              "#f0f921"
             ]
            ],
            "type": "surface"
           }
          ],
          "table": [
           {
            "cells": {
             "fill": {
              "color": "#EBF0F8"
             },
             "line": {
              "color": "white"
             }
            },
            "header": {
             "fill": {
              "color": "#C8D4E3"
             },
             "line": {
              "color": "white"
             }
            },
            "type": "table"
           }
          ]
         },
         "layout": {
          "annotationdefaults": {
           "arrowcolor": "#2a3f5f",
           "arrowhead": 0,
           "arrowwidth": 1
          },
          "autotypenumbers": "strict",
          "coloraxis": {
           "colorbar": {
            "outlinewidth": 0,
            "ticks": ""
           }
          },
          "colorscale": {
           "diverging": [
            [
             0,
             "#8e0152"
            ],
            [
             0.1,
             "#c51b7d"
            ],
            [
             0.2,
             "#de77ae"
            ],
            [
             0.3,
             "#f1b6da"
            ],
            [
             0.4,
             "#fde0ef"
            ],
            [
             0.5,
             "#f7f7f7"
            ],
            [
             0.6,
             "#e6f5d0"
            ],
            [
             0.7,
             "#b8e186"
            ],
            [
             0.8,
             "#7fbc41"
            ],
            [
             0.9,
             "#4d9221"
            ],
            [
             1,
             "#276419"
            ]
           ],
           "sequential": [
            [
             0,
             "#0d0887"
            ],
            [
             0.1111111111111111,
             "#46039f"
            ],
            [
             0.2222222222222222,
             "#7201a8"
            ],
            [
             0.3333333333333333,
             "#9c179e"
            ],
            [
             0.4444444444444444,
             "#bd3786"
            ],
            [
             0.5555555555555556,
             "#d8576b"
            ],
            [
             0.6666666666666666,
             "#ed7953"
            ],
            [
             0.7777777777777778,
             "#fb9f3a"
            ],
            [
             0.8888888888888888,
             "#fdca26"
            ],
            [
             1,
             "#f0f921"
            ]
           ],
           "sequentialminus": [
            [
             0,
             "#0d0887"
            ],
            [
             0.1111111111111111,
             "#46039f"
            ],
            [
             0.2222222222222222,
             "#7201a8"
            ],
            [
             0.3333333333333333,
             "#9c179e"
            ],
            [
             0.4444444444444444,
             "#bd3786"
            ],
            [
             0.5555555555555556,
             "#d8576b"
            ],
            [
             0.6666666666666666,
             "#ed7953"
            ],
            [
             0.7777777777777778,
             "#fb9f3a"
            ],
            [
             0.8888888888888888,
             "#fdca26"
            ],
            [
             1,
             "#f0f921"
            ]
           ]
          },
          "colorway": [
           "#636efa",
           "#EF553B",
           "#00cc96",
           "#ab63fa",
           "#FFA15A",
           "#19d3f3",
           "#FF6692",
           "#B6E880",
           "#FF97FF",
           "#FECB52"
          ],
          "font": {
           "color": "#2a3f5f"
          },
          "geo": {
           "bgcolor": "white",
           "lakecolor": "white",
           "landcolor": "#E5ECF6",
           "showlakes": true,
           "showland": true,
           "subunitcolor": "white"
          },
          "hoverlabel": {
           "align": "left"
          },
          "hovermode": "closest",
          "mapbox": {
           "style": "light"
          },
          "paper_bgcolor": "white",
          "plot_bgcolor": "#E5ECF6",
          "polar": {
           "angularaxis": {
            "gridcolor": "white",
            "linecolor": "white",
            "ticks": ""
           },
           "bgcolor": "#E5ECF6",
           "radialaxis": {
            "gridcolor": "white",
            "linecolor": "white",
            "ticks": ""
           }
          },
          "scene": {
           "xaxis": {
            "backgroundcolor": "#E5ECF6",
            "gridcolor": "white",
            "gridwidth": 2,
            "linecolor": "white",
            "showbackground": true,
            "ticks": "",
            "zerolinecolor": "white"
           },
           "yaxis": {
            "backgroundcolor": "#E5ECF6",
            "gridcolor": "white",
            "gridwidth": 2,
            "linecolor": "white",
            "showbackground": true,
            "ticks": "",
            "zerolinecolor": "white"
           },
           "zaxis": {
            "backgroundcolor": "#E5ECF6",
            "gridcolor": "white",
            "gridwidth": 2,
            "linecolor": "white",
            "showbackground": true,
            "ticks": "",
            "zerolinecolor": "white"
           }
          },
          "shapedefaults": {
           "line": {
            "color": "#2a3f5f"
           }
          },
          "ternary": {
           "aaxis": {
            "gridcolor": "white",
            "linecolor": "white",
            "ticks": ""
           },
           "baxis": {
            "gridcolor": "white",
            "linecolor": "white",
            "ticks": ""
           },
           "bgcolor": "#E5ECF6",
           "caxis": {
            "gridcolor": "white",
            "linecolor": "white",
            "ticks": ""
           }
          },
          "title": {
           "x": 0.05
          },
          "xaxis": {
           "automargin": true,
           "gridcolor": "white",
           "linecolor": "white",
           "ticks": "",
           "title": {
            "standoff": 15
           },
           "zerolinecolor": "white",
           "zerolinewidth": 2
          },
          "yaxis": {
           "automargin": true,
           "gridcolor": "white",
           "linecolor": "white",
           "ticks": "",
           "title": {
            "standoff": 15
           },
           "zerolinecolor": "white",
           "zerolinewidth": 2
          }
         }
        },
        "title": {
         "text": "Loan Counts by Type"
        },
        "xaxis": {
         "title": {
          "text": "Types"
         }
        },
        "yaxis": {
         "title": {
          "text": "Count"
         }
        }
       }
      }
     },
     "metadata": {},
     "output_type": "display_data"
    }
   ],
   "source": [
    "import plotly.graph_objs as go\n",
    "\n",
    "x = df['name']\n",
    "y = df['count']\n",
    "\n",
    "# Create traces\n",
    "trace1 = go.Bar(x=x, y=y, name='Count')\n",
    "\n",
    "# Create layout\n",
    "layout = go.Layout(title='Loan Counts by Type', xaxis=dict(title='Types'), yaxis=dict(title='Count'))\n",
    "\n",
    "# Create figure and plot\n",
    "fig = go.Figure(data=[trace1], layout=layout)\n",
    "fig.show()"
   ]
  }
 ],
 "metadata": {
  "kernelspec": {
   "display_name": "Python 3",
   "language": "python",
   "name": "python3"
  },
  "language_info": {
   "codemirror_mode": {
    "name": "ipython",
    "version": 3
   },
   "file_extension": ".py",
   "mimetype": "text/x-python",
   "name": "python",
   "nbconvert_exporter": "python",
   "pygments_lexer": "ipython3",
   "version": "3.11.2"
  },
  "orig_nbformat": 4
 },
 "nbformat": 4,
 "nbformat_minor": 2
}
